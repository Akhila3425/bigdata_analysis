{
  "nbformat": 4,
  "nbformat_minor": 0,
  "metadata": {
    "colab": {
      "provenance": [],
      "include_colab_link": true
    },
    "kernelspec": {
      "name": "python3",
      "display_name": "Python 3"
    },
    "language_info": {
      "name": "python"
    }
  },
  "cells": [
    {
      "cell_type": "markdown",
      "metadata": {
        "id": "view-in-github",
        "colab_type": "text"
      },
      "source": [
        "<a href=\"https://colab.research.google.com/github/Akhila3425/bigdata_analysis/blob/main/bigdata_analysis.ipynb\" target=\"_parent\"><img src=\"https://colab.research.google.com/assets/colab-badge.svg\" alt=\"Open In Colab\"/></a>"
      ]
    },
    {
      "cell_type": "code",
      "execution_count": null,
      "metadata": {
        "id": "nlD1EHWGmusa",
        "colab": {
          "base_uri": "https://localhost:8080/"
        },
        "outputId": "98b9f091-7f68-4ec0-e9d6-f0618d38ea38"
      },
      "outputs": [
        {
          "output_type": "stream",
          "name": "stdout",
          "text": [
            "Requirement already satisfied: pyspark in /usr/local/lib/python3.12/dist-packages (3.5.1)\n",
            "Requirement already satisfied: py4j==0.10.9.7 in /usr/local/lib/python3.12/dist-packages (from pyspark) (0.10.9.7)\n"
          ]
        }
      ],
      "source": [
        "!pip install pyspark"
      ]
    },
    {
      "cell_type": "code",
      "source": [
        "from pyspark.sql import SparkSession"
      ],
      "metadata": {
        "id": "KI4krp_Ent1f"
      },
      "execution_count": null,
      "outputs": []
    },
    {
      "cell_type": "code",
      "source": [
        "spark=SparkSession.builder.appName('Pyspark').getOrCreate()"
      ],
      "metadata": {
        "id": "RFnAatd3n-tJ"
      },
      "execution_count": null,
      "outputs": []
    },
    {
      "cell_type": "code",
      "source": [
        "spark"
      ],
      "metadata": {
        "colab": {
          "base_uri": "https://localhost:8080/",
          "height": 219
        },
        "id": "HkWL3RYMoQd2",
        "outputId": "4f035efb-0133-4c40-f19f-a8e21c07ede4"
      },
      "execution_count": null,
      "outputs": [
        {
          "output_type": "execute_result",
          "data": {
            "text/plain": [
              "<pyspark.sql.session.SparkSession at 0x7c5f1441bd40>"
            ],
            "text/html": [
              "\n",
              "            <div>\n",
              "                <p><b>SparkSession - in-memory</b></p>\n",
              "                \n",
              "        <div>\n",
              "            <p><b>SparkContext</b></p>\n",
              "\n",
              "            <p><a href=\"http://7e3823680334:4040\">Spark UI</a></p>\n",
              "\n",
              "            <dl>\n",
              "              <dt>Version</dt>\n",
              "                <dd><code>v3.5.1</code></dd>\n",
              "              <dt>Master</dt>\n",
              "                <dd><code>local[*]</code></dd>\n",
              "              <dt>AppName</dt>\n",
              "                <dd><code>Pyspark</code></dd>\n",
              "            </dl>\n",
              "        </div>\n",
              "        \n",
              "            </div>\n",
              "        "
            ]
          },
          "metadata": {},
          "execution_count": 33
        }
      ]
    },
    {
      "cell_type": "code",
      "source": [
        "df=spark.read.csv('/content/student_data.csv',header=True,inferSchema=True)"
      ],
      "metadata": {
        "id": "Fy_TUnWuoV4s"
      },
      "execution_count": null,
      "outputs": []
    },
    {
      "cell_type": "code",
      "source": [
        "df.show(3)"
      ],
      "metadata": {
        "colab": {
          "base_uri": "https://localhost:8080/"
        },
        "id": "_39ZGpfXokdO",
        "outputId": "ccbb0c53-1c14-49e4-986c-2e7619a34593"
      },
      "execution_count": null,
      "outputs": [
        {
          "output_type": "stream",
          "name": "stdout",
          "text": [
            "+------+---+---+-------+-------+-------+----+----+-------+-------+------+--------+----------+---------+--------+---------+------+----+----------+-------+------+--------+--------+------+--------+-----+----+----+------+--------+---+---+---+\n",
            "|school|sex|age|address|famsize|Pstatus|Medu|Fedu|   Mjob|   Fjob|reason|guardian|traveltime|studytime|failures|schoolsup|famsup|paid|activities|nursery|higher|internet|romantic|famrel|freetime|goout|Dalc|Walc|health|absences| G1| G2| G3|\n",
            "+------+---+---+-------+-------+-------+----+----+-------+-------+------+--------+----------+---------+--------+---------+------+----+----------+-------+------+--------+--------+------+--------+-----+----+----+------+--------+---+---+---+\n",
            "|    GP|  F| 18|      U|    GT3|      A|   4|   4|at_home|teacher|course|  mother|         2|        2|       0|      yes|    no|  no|        no|    yes|   yes|      no|      no|     4|       3|    4|   1|   1|     3|       6|  5|  6|  6|\n",
            "|    GP|  F| 17|      U|    GT3|      T|   1|   1|at_home|  other|course|  father|         1|        2|       0|       no|   yes|  no|        no|     no|   yes|     yes|      no|     5|       3|    3|   1|   1|     3|       4|  5|  5|  6|\n",
            "|    GP|  F| 15|      U|    LE3|      T|   1|   1|at_home|  other| other|  mother|         1|        2|       3|      yes|    no| yes|        no|    yes|   yes|     yes|      no|     4|       3|    2|   2|   3|     3|      10|  7|  8| 10|\n",
            "+------+---+---+-------+-------+-------+----+----+-------+-------+------+--------+----------+---------+--------+---------+------+----+----------+-------+------+--------+--------+------+--------+-----+----+----+------+--------+---+---+---+\n",
            "only showing top 3 rows\n",
            "\n"
          ]
        }
      ]
    },
    {
      "cell_type": "code",
      "source": [
        "df.printSchema()"
      ],
      "metadata": {
        "colab": {
          "base_uri": "https://localhost:8080/"
        },
        "id": "FHexMoaXotX0",
        "outputId": "9f5bd01a-e2a4-473c-f60d-1e84bb859f66"
      },
      "execution_count": null,
      "outputs": [
        {
          "output_type": "stream",
          "name": "stdout",
          "text": [
            "root\n",
            " |-- school: string (nullable = true)\n",
            " |-- sex: string (nullable = true)\n",
            " |-- age: integer (nullable = true)\n",
            " |-- address: string (nullable = true)\n",
            " |-- famsize: string (nullable = true)\n",
            " |-- Pstatus: string (nullable = true)\n",
            " |-- Medu: integer (nullable = true)\n",
            " |-- Fedu: integer (nullable = true)\n",
            " |-- Mjob: string (nullable = true)\n",
            " |-- Fjob: string (nullable = true)\n",
            " |-- reason: string (nullable = true)\n",
            " |-- guardian: string (nullable = true)\n",
            " |-- traveltime: integer (nullable = true)\n",
            " |-- studytime: integer (nullable = true)\n",
            " |-- failures: integer (nullable = true)\n",
            " |-- schoolsup: string (nullable = true)\n",
            " |-- famsup: string (nullable = true)\n",
            " |-- paid: string (nullable = true)\n",
            " |-- activities: string (nullable = true)\n",
            " |-- nursery: string (nullable = true)\n",
            " |-- higher: string (nullable = true)\n",
            " |-- internet: string (nullable = true)\n",
            " |-- romantic: string (nullable = true)\n",
            " |-- famrel: integer (nullable = true)\n",
            " |-- freetime: integer (nullable = true)\n",
            " |-- goout: integer (nullable = true)\n",
            " |-- Dalc: integer (nullable = true)\n",
            " |-- Walc: integer (nullable = true)\n",
            " |-- health: integer (nullable = true)\n",
            " |-- absences: integer (nullable = true)\n",
            " |-- G1: integer (nullable = true)\n",
            " |-- G2: integer (nullable = true)\n",
            " |-- G3: integer (nullable = true)\n",
            "\n"
          ]
        }
      ]
    },
    {
      "cell_type": "code",
      "source": [
        "df.count()"
      ],
      "metadata": {
        "colab": {
          "base_uri": "https://localhost:8080/"
        },
        "id": "IzKQFtzDp8JI",
        "outputId": "f354c081-0d88-481a-e574-7b60d45edcc5"
      },
      "execution_count": null,
      "outputs": [
        {
          "output_type": "execute_result",
          "data": {
            "text/plain": [
              "395"
            ]
          },
          "metadata": {},
          "execution_count": 37
        }
      ]
    },
    {
      "cell_type": "code",
      "source": [
        "len(df.columns)"
      ],
      "metadata": {
        "colab": {
          "base_uri": "https://localhost:8080/"
        },
        "id": "DEiR18E_qnHH",
        "outputId": "8f0aa77c-65a7-454a-cbc3-684b0c8be688"
      },
      "execution_count": null,
      "outputs": [
        {
          "output_type": "execute_result",
          "data": {
            "text/plain": [
              "33"
            ]
          },
          "metadata": {},
          "execution_count": 38
        }
      ]
    },
    {
      "cell_type": "markdown",
      "source": [
        "statstcs"
      ],
      "metadata": {
        "id": "dHbsUhgWrBoS"
      }
    },
    {
      "cell_type": "code",
      "source": [
        "df.describe().show()"
      ],
      "metadata": {
        "colab": {
          "base_uri": "https://localhost:8080/"
        },
        "id": "HXITvHvXqq4-",
        "outputId": "4535a43d-3e92-4cf6-c129-90c6eee29a02"
      },
      "execution_count": null,
      "outputs": [
        {
          "output_type": "stream",
          "name": "stdout",
          "text": [
            "+-------+------+----+------------------+-------+-------+-------+------------------+------------------+-------+-------+----------+--------+------------------+------------------+------------------+---------+------+----+----------+-------+------+--------+--------+------------------+------------------+------------------+------------------+------------------+------------------+-----------------+------------------+------------------+------------------+\n",
            "|summary|school| sex|               age|address|famsize|Pstatus|              Medu|              Fedu|   Mjob|   Fjob|    reason|guardian|        traveltime|         studytime|          failures|schoolsup|famsup|paid|activities|nursery|higher|internet|romantic|            famrel|          freetime|             goout|              Dalc|              Walc|            health|         absences|                G1|                G2|                G3|\n",
            "+-------+------+----+------------------+-------+-------+-------+------------------+------------------+-------+-------+----------+--------+------------------+------------------+------------------+---------+------+----+----------+-------+------+--------+--------+------------------+------------------+------------------+------------------+------------------+------------------+-----------------+------------------+------------------+------------------+\n",
            "|  count|   395| 395|               395|    395|    395|    395|               395|               395|    395|    395|       395|     395|               395|               395|               395|      395|   395| 395|       395|    395|   395|     395|     395|               395|               395|               395|               395|               395|               395|              395|               395|               395|               395|\n",
            "|   mean|  NULL|NULL|16.696202531645568|   NULL|   NULL|   NULL| 2.749367088607595|2.5215189873417723|   NULL|   NULL|      NULL|    NULL|1.4481012658227848|2.0354430379746837|0.3341772151898734|     NULL|  NULL|NULL|      NULL|   NULL|  NULL|    NULL|    NULL|3.9443037974683546|3.2354430379746835| 3.108860759493671| 1.481012658227848|2.2911392405063293|3.5544303797468353|5.708860759493671| 10.90886075949367|10.713924050632912|10.415189873417722|\n",
            "| stddev|  NULL|NULL|1.2760427246056265|   NULL|   NULL|   NULL|1.0947351414285371|1.0882005458269433|   NULL|   NULL|      NULL|    NULL|0.6975047549086822|0.8392403464185556|0.7436509736062509|     NULL|  NULL|NULL|      NULL|   NULL|  NULL|    NULL|    NULL|0.8966586076885046|0.9988620396657203|1.1132781740183422|0.8907414280909668|1.2878965924510932|1.3903033913095773|8.003095687108182|3.3191946715076686|3.7615046595560306|4.5814426109978434|\n",
            "|    min|    GP|   F|                15|      R|    GT3|      A|                 0|                 0|at_home|at_home|    course|  father|                 1|                 1|                 0|       no|    no|  no|        no|     no|    no|      no|      no|                 1|                 1|                 1|                 1|                 1|                 1|                0|                 3|                 0|                 0|\n",
            "|    max|    MS|   M|                22|      U|    LE3|      T|                 4|                 4|teacher|teacher|reputation|   other|                 4|                 4|                 3|      yes|   yes| yes|       yes|    yes|   yes|     yes|     yes|                 5|                 5|                 5|                 5|                 5|                 5|               75|                19|                19|                20|\n",
            "+-------+------+----+------------------+-------+-------+-------+------------------+------------------+-------+-------+----------+--------+------------------+------------------+------------------+---------+------+----+----------+-------+------+--------+--------+------------------+------------------+------------------+------------------+------------------+------------------+-----------------+------------------+------------------+------------------+\n",
            "\n"
          ]
        }
      ]
    },
    {
      "cell_type": "code",
      "source": [
        "df.columns"
      ],
      "metadata": {
        "colab": {
          "base_uri": "https://localhost:8080/"
        },
        "id": "XXPk2P0rq7ZD",
        "outputId": "9d6d3980-a62d-4d4d-b573-8f794a5e320d"
      },
      "execution_count": null,
      "outputs": [
        {
          "output_type": "execute_result",
          "data": {
            "text/plain": [
              "['school',\n",
              " 'sex',\n",
              " 'age',\n",
              " 'address',\n",
              " 'famsize',\n",
              " 'Pstatus',\n",
              " 'Medu',\n",
              " 'Fedu',\n",
              " 'Mjob',\n",
              " 'Fjob',\n",
              " 'reason',\n",
              " 'guardian',\n",
              " 'traveltime',\n",
              " 'studytime',\n",
              " 'failures',\n",
              " 'schoolsup',\n",
              " 'famsup',\n",
              " 'paid',\n",
              " 'activities',\n",
              " 'nursery',\n",
              " 'higher',\n",
              " 'internet',\n",
              " 'romantic',\n",
              " 'famrel',\n",
              " 'freetime',\n",
              " 'goout',\n",
              " 'Dalc',\n",
              " 'Walc',\n",
              " 'health',\n",
              " 'absences',\n",
              " 'G1',\n",
              " 'G2',\n",
              " 'G3']"
            ]
          },
          "metadata": {},
          "execution_count": 40
        }
      ]
    },
    {
      "cell_type": "code",
      "source": [
        "df.toPandas()['freetime'].unique()"
      ],
      "metadata": {
        "colab": {
          "base_uri": "https://localhost:8080/"
        },
        "id": "Yn33tMBFrPlo",
        "outputId": "dccdbbb2-b591-4031-a066-2e218dfede34"
      },
      "execution_count": null,
      "outputs": [
        {
          "output_type": "execute_result",
          "data": {
            "text/plain": [
              "array([3, 2, 4, 1, 5], dtype=int32)"
            ]
          },
          "metadata": {},
          "execution_count": 41
        }
      ]
    },
    {
      "cell_type": "code",
      "source": [
        "len(df.toPandas()['freetime'].unique())"
      ],
      "metadata": {
        "colab": {
          "base_uri": "https://localhost:8080/"
        },
        "id": "hU9EoOe-rbQl",
        "outputId": "5fdb644f-0f55-48c2-b303-65cc9f9f374d"
      },
      "execution_count": null,
      "outputs": [
        {
          "output_type": "execute_result",
          "data": {
            "text/plain": [
              "5"
            ]
          },
          "metadata": {},
          "execution_count": 42
        }
      ]
    },
    {
      "cell_type": "markdown",
      "source": [
        "select single column\n"
      ],
      "metadata": {
        "id": "UwvnpbKCr2pU"
      }
    },
    {
      "cell_type": "code",
      "source": [
        "df.show()"
      ],
      "metadata": {
        "colab": {
          "base_uri": "https://localhost:8080/"
        },
        "id": "Q1vwYsSxrxux",
        "outputId": "261a57b5-6096-4a67-eaa3-456e53731eba"
      },
      "execution_count": null,
      "outputs": [
        {
          "output_type": "stream",
          "name": "stdout",
          "text": [
            "+------+---+---+-------+-------+-------+----+----+--------+--------+----------+--------+----------+---------+--------+---------+------+----+----------+-------+------+--------+--------+------+--------+-----+----+----+------+--------+---+---+---+\n",
            "|school|sex|age|address|famsize|Pstatus|Medu|Fedu|    Mjob|    Fjob|    reason|guardian|traveltime|studytime|failures|schoolsup|famsup|paid|activities|nursery|higher|internet|romantic|famrel|freetime|goout|Dalc|Walc|health|absences| G1| G2| G3|\n",
            "+------+---+---+-------+-------+-------+----+----+--------+--------+----------+--------+----------+---------+--------+---------+------+----+----------+-------+------+--------+--------+------+--------+-----+----+----+------+--------+---+---+---+\n",
            "|    GP|  F| 18|      U|    GT3|      A|   4|   4| at_home| teacher|    course|  mother|         2|        2|       0|      yes|    no|  no|        no|    yes|   yes|      no|      no|     4|       3|    4|   1|   1|     3|       6|  5|  6|  6|\n",
            "|    GP|  F| 17|      U|    GT3|      T|   1|   1| at_home|   other|    course|  father|         1|        2|       0|       no|   yes|  no|        no|     no|   yes|     yes|      no|     5|       3|    3|   1|   1|     3|       4|  5|  5|  6|\n",
            "|    GP|  F| 15|      U|    LE3|      T|   1|   1| at_home|   other|     other|  mother|         1|        2|       3|      yes|    no| yes|        no|    yes|   yes|     yes|      no|     4|       3|    2|   2|   3|     3|      10|  7|  8| 10|\n",
            "|    GP|  F| 15|      U|    GT3|      T|   4|   2|  health|services|      home|  mother|         1|        3|       0|       no|   yes| yes|       yes|    yes|   yes|     yes|     yes|     3|       2|    2|   1|   1|     5|       2| 15| 14| 15|\n",
            "|    GP|  F| 16|      U|    GT3|      T|   3|   3|   other|   other|      home|  father|         1|        2|       0|       no|   yes| yes|        no|    yes|   yes|      no|      no|     4|       3|    2|   1|   2|     5|       4|  6| 10| 10|\n",
            "|    GP|  M| 16|      U|    LE3|      T|   4|   3|services|   other|reputation|  mother|         1|        2|       0|       no|   yes| yes|       yes|    yes|   yes|     yes|      no|     5|       4|    2|   1|   2|     5|      10| 15| 15| 15|\n",
            "|    GP|  M| 16|      U|    LE3|      T|   2|   2|   other|   other|      home|  mother|         1|        2|       0|       no|    no|  no|        no|    yes|   yes|     yes|      no|     4|       4|    4|   1|   1|     3|       0| 12| 12| 11|\n",
            "|    GP|  F| 17|      U|    GT3|      A|   4|   4|   other| teacher|      home|  mother|         2|        2|       0|      yes|   yes|  no|        no|    yes|   yes|      no|      no|     4|       1|    4|   1|   1|     1|       6|  6|  5|  6|\n",
            "|    GP|  M| 15|      U|    LE3|      A|   3|   2|services|   other|      home|  mother|         1|        2|       0|       no|   yes| yes|        no|    yes|   yes|     yes|      no|     4|       2|    2|   1|   1|     1|       0| 16| 18| 19|\n",
            "|    GP|  M| 15|      U|    GT3|      T|   3|   4|   other|   other|      home|  mother|         1|        2|       0|       no|   yes| yes|       yes|    yes|   yes|     yes|      no|     5|       5|    1|   1|   1|     5|       0| 14| 15| 15|\n",
            "|    GP|  F| 15|      U|    GT3|      T|   4|   4| teacher|  health|reputation|  mother|         1|        2|       0|       no|   yes| yes|        no|    yes|   yes|     yes|      no|     3|       3|    3|   1|   2|     2|       0| 10|  8|  9|\n",
            "|    GP|  F| 15|      U|    GT3|      T|   2|   1|services|   other|reputation|  father|         3|        3|       0|       no|   yes|  no|       yes|    yes|   yes|     yes|      no|     5|       2|    2|   1|   1|     4|       4| 10| 12| 12|\n",
            "|    GP|  M| 15|      U|    LE3|      T|   4|   4|  health|services|    course|  father|         1|        1|       0|       no|   yes| yes|       yes|    yes|   yes|     yes|      no|     4|       3|    3|   1|   3|     5|       2| 14| 14| 14|\n",
            "|    GP|  M| 15|      U|    GT3|      T|   4|   3| teacher|   other|    course|  mother|         2|        2|       0|       no|   yes| yes|        no|    yes|   yes|     yes|      no|     5|       4|    3|   1|   2|     3|       2| 10| 10| 11|\n",
            "|    GP|  M| 15|      U|    GT3|      A|   2|   2|   other|   other|      home|   other|         1|        3|       0|       no|   yes|  no|        no|    yes|   yes|     yes|     yes|     4|       5|    2|   1|   1|     3|       0| 14| 16| 16|\n",
            "|    GP|  F| 16|      U|    GT3|      T|   4|   4|  health|   other|      home|  mother|         1|        1|       0|       no|   yes|  no|        no|    yes|   yes|     yes|      no|     4|       4|    4|   1|   2|     2|       4| 14| 14| 14|\n",
            "|    GP|  F| 16|      U|    GT3|      T|   4|   4|services|services|reputation|  mother|         1|        3|       0|       no|   yes| yes|       yes|    yes|   yes|     yes|      no|     3|       2|    3|   1|   2|     2|       6| 13| 14| 14|\n",
            "|    GP|  F| 16|      U|    GT3|      T|   3|   3|   other|   other|reputation|  mother|         3|        2|       0|      yes|   yes|  no|       yes|    yes|   yes|      no|      no|     5|       3|    2|   1|   1|     4|       4|  8| 10| 10|\n",
            "|    GP|  M| 17|      U|    GT3|      T|   3|   2|services|services|    course|  mother|         1|        1|       3|       no|   yes|  no|       yes|    yes|   yes|     yes|      no|     5|       5|    5|   2|   4|     5|      16|  6|  5|  5|\n",
            "|    GP|  M| 16|      U|    LE3|      T|   4|   3|  health|   other|      home|  father|         1|        1|       0|       no|    no| yes|       yes|    yes|   yes|     yes|      no|     3|       1|    3|   1|   3|     5|       4|  8| 10| 10|\n",
            "+------+---+---+-------+-------+-------+----+----+--------+--------+----------+--------+----------+---------+--------+---------+------+----+----------+-------+------+--------+--------+------+--------+-----+----+----+------+--------+---+---+---+\n",
            "only showing top 20 rows\n",
            "\n"
          ]
        }
      ]
    },
    {
      "cell_type": "code",
      "source": [
        "df.select('school').show()"
      ],
      "metadata": {
        "colab": {
          "base_uri": "https://localhost:8080/"
        },
        "id": "_8xRSzYrsAk0",
        "outputId": "920358e7-18ce-4da6-e3e3-818b1ba63ee0"
      },
      "execution_count": null,
      "outputs": [
        {
          "output_type": "stream",
          "name": "stdout",
          "text": [
            "+------+\n",
            "|school|\n",
            "+------+\n",
            "|    GP|\n",
            "|    GP|\n",
            "|    GP|\n",
            "|    GP|\n",
            "|    GP|\n",
            "|    GP|\n",
            "|    GP|\n",
            "|    GP|\n",
            "|    GP|\n",
            "|    GP|\n",
            "|    GP|\n",
            "|    GP|\n",
            "|    GP|\n",
            "|    GP|\n",
            "|    GP|\n",
            "|    GP|\n",
            "|    GP|\n",
            "|    GP|\n",
            "|    GP|\n",
            "|    GP|\n",
            "+------+\n",
            "only showing top 20 rows\n",
            "\n"
          ]
        }
      ]
    },
    {
      "cell_type": "code",
      "source": [
        "df.select(['Mjob','Fjob']).show()"
      ],
      "metadata": {
        "colab": {
          "base_uri": "https://localhost:8080/"
        },
        "id": "mWDDtDXlsNvd",
        "outputId": "904f53e3-56fc-40bd-aae6-7477a373e4a4"
      },
      "execution_count": null,
      "outputs": [
        {
          "output_type": "stream",
          "name": "stdout",
          "text": [
            "+--------+--------+\n",
            "|    Mjob|    Fjob|\n",
            "+--------+--------+\n",
            "| at_home| teacher|\n",
            "| at_home|   other|\n",
            "| at_home|   other|\n",
            "|  health|services|\n",
            "|   other|   other|\n",
            "|services|   other|\n",
            "|   other|   other|\n",
            "|   other| teacher|\n",
            "|services|   other|\n",
            "|   other|   other|\n",
            "| teacher|  health|\n",
            "|services|   other|\n",
            "|  health|services|\n",
            "| teacher|   other|\n",
            "|   other|   other|\n",
            "|  health|   other|\n",
            "|services|services|\n",
            "|   other|   other|\n",
            "|services|services|\n",
            "|  health|   other|\n",
            "+--------+--------+\n",
            "only showing top 20 rows\n",
            "\n"
          ]
        }
      ]
    },
    {
      "cell_type": "code",
      "source": [
        "df=df.withColumn('new_studytime',df.studytime+2)"
      ],
      "metadata": {
        "id": "FoiFnOZXsqkV"
      },
      "execution_count": null,
      "outputs": []
    },
    {
      "cell_type": "code",
      "source": [
        "df.show()"
      ],
      "metadata": {
        "colab": {
          "base_uri": "https://localhost:8080/"
        },
        "id": "4xiNYOwNtZ6v",
        "outputId": "82f125bc-4778-40d1-cc03-f59394688ab0"
      },
      "execution_count": null,
      "outputs": [
        {
          "output_type": "stream",
          "name": "stdout",
          "text": [
            "+------+---+---+-------+-------+-------+----+----+--------+--------+----------+--------+----------+---------+--------+---------+------+----+----------+-------+------+--------+--------+------+--------+-----+----+----+------+--------+---+---+---+-------------+\n",
            "|school|sex|age|address|famsize|Pstatus|Medu|Fedu|    Mjob|    Fjob|    reason|guardian|traveltime|studytime|failures|schoolsup|famsup|paid|activities|nursery|higher|internet|romantic|famrel|freetime|goout|Dalc|Walc|health|absences| G1| G2| G3|new_studytime|\n",
            "+------+---+---+-------+-------+-------+----+----+--------+--------+----------+--------+----------+---------+--------+---------+------+----+----------+-------+------+--------+--------+------+--------+-----+----+----+------+--------+---+---+---+-------------+\n",
            "|    GP|  F| 18|      U|    GT3|      A|   4|   4| at_home| teacher|    course|  mother|         2|        2|       0|      yes|    no|  no|        no|    yes|   yes|      no|      no|     4|       3|    4|   1|   1|     3|       6|  5|  6|  6|            4|\n",
            "|    GP|  F| 17|      U|    GT3|      T|   1|   1| at_home|   other|    course|  father|         1|        2|       0|       no|   yes|  no|        no|     no|   yes|     yes|      no|     5|       3|    3|   1|   1|     3|       4|  5|  5|  6|            4|\n",
            "|    GP|  F| 15|      U|    LE3|      T|   1|   1| at_home|   other|     other|  mother|         1|        2|       3|      yes|    no| yes|        no|    yes|   yes|     yes|      no|     4|       3|    2|   2|   3|     3|      10|  7|  8| 10|            4|\n",
            "|    GP|  F| 15|      U|    GT3|      T|   4|   2|  health|services|      home|  mother|         1|        3|       0|       no|   yes| yes|       yes|    yes|   yes|     yes|     yes|     3|       2|    2|   1|   1|     5|       2| 15| 14| 15|            5|\n",
            "|    GP|  F| 16|      U|    GT3|      T|   3|   3|   other|   other|      home|  father|         1|        2|       0|       no|   yes| yes|        no|    yes|   yes|      no|      no|     4|       3|    2|   1|   2|     5|       4|  6| 10| 10|            4|\n",
            "|    GP|  M| 16|      U|    LE3|      T|   4|   3|services|   other|reputation|  mother|         1|        2|       0|       no|   yes| yes|       yes|    yes|   yes|     yes|      no|     5|       4|    2|   1|   2|     5|      10| 15| 15| 15|            4|\n",
            "|    GP|  M| 16|      U|    LE3|      T|   2|   2|   other|   other|      home|  mother|         1|        2|       0|       no|    no|  no|        no|    yes|   yes|     yes|      no|     4|       4|    4|   1|   1|     3|       0| 12| 12| 11|            4|\n",
            "|    GP|  F| 17|      U|    GT3|      A|   4|   4|   other| teacher|      home|  mother|         2|        2|       0|      yes|   yes|  no|        no|    yes|   yes|      no|      no|     4|       1|    4|   1|   1|     1|       6|  6|  5|  6|            4|\n",
            "|    GP|  M| 15|      U|    LE3|      A|   3|   2|services|   other|      home|  mother|         1|        2|       0|       no|   yes| yes|        no|    yes|   yes|     yes|      no|     4|       2|    2|   1|   1|     1|       0| 16| 18| 19|            4|\n",
            "|    GP|  M| 15|      U|    GT3|      T|   3|   4|   other|   other|      home|  mother|         1|        2|       0|       no|   yes| yes|       yes|    yes|   yes|     yes|      no|     5|       5|    1|   1|   1|     5|       0| 14| 15| 15|            4|\n",
            "|    GP|  F| 15|      U|    GT3|      T|   4|   4| teacher|  health|reputation|  mother|         1|        2|       0|       no|   yes| yes|        no|    yes|   yes|     yes|      no|     3|       3|    3|   1|   2|     2|       0| 10|  8|  9|            4|\n",
            "|    GP|  F| 15|      U|    GT3|      T|   2|   1|services|   other|reputation|  father|         3|        3|       0|       no|   yes|  no|       yes|    yes|   yes|     yes|      no|     5|       2|    2|   1|   1|     4|       4| 10| 12| 12|            5|\n",
            "|    GP|  M| 15|      U|    LE3|      T|   4|   4|  health|services|    course|  father|         1|        1|       0|       no|   yes| yes|       yes|    yes|   yes|     yes|      no|     4|       3|    3|   1|   3|     5|       2| 14| 14| 14|            3|\n",
            "|    GP|  M| 15|      U|    GT3|      T|   4|   3| teacher|   other|    course|  mother|         2|        2|       0|       no|   yes| yes|        no|    yes|   yes|     yes|      no|     5|       4|    3|   1|   2|     3|       2| 10| 10| 11|            4|\n",
            "|    GP|  M| 15|      U|    GT3|      A|   2|   2|   other|   other|      home|   other|         1|        3|       0|       no|   yes|  no|        no|    yes|   yes|     yes|     yes|     4|       5|    2|   1|   1|     3|       0| 14| 16| 16|            5|\n",
            "|    GP|  F| 16|      U|    GT3|      T|   4|   4|  health|   other|      home|  mother|         1|        1|       0|       no|   yes|  no|        no|    yes|   yes|     yes|      no|     4|       4|    4|   1|   2|     2|       4| 14| 14| 14|            3|\n",
            "|    GP|  F| 16|      U|    GT3|      T|   4|   4|services|services|reputation|  mother|         1|        3|       0|       no|   yes| yes|       yes|    yes|   yes|     yes|      no|     3|       2|    3|   1|   2|     2|       6| 13| 14| 14|            5|\n",
            "|    GP|  F| 16|      U|    GT3|      T|   3|   3|   other|   other|reputation|  mother|         3|        2|       0|      yes|   yes|  no|       yes|    yes|   yes|      no|      no|     5|       3|    2|   1|   1|     4|       4|  8| 10| 10|            4|\n",
            "|    GP|  M| 17|      U|    GT3|      T|   3|   2|services|services|    course|  mother|         1|        1|       3|       no|   yes|  no|       yes|    yes|   yes|     yes|      no|     5|       5|    5|   2|   4|     5|      16|  6|  5|  5|            3|\n",
            "|    GP|  M| 16|      U|    LE3|      T|   4|   3|  health|   other|      home|  father|         1|        1|       0|       no|    no| yes|       yes|    yes|   yes|     yes|      no|     3|       1|    3|   1|   3|     5|       4|  8| 10| 10|            3|\n",
            "+------+---+---+-------+-------+-------+----+----+--------+--------+----------+--------+----------+---------+--------+---------+------+----+----------+-------+------+--------+--------+------+--------+-----+----+----+------+--------+---+---+---+-------------+\n",
            "only showing top 20 rows\n",
            "\n"
          ]
        }
      ]
    },
    {
      "cell_type": "code",
      "source": [
        "df=df.withColumnRenamed('sex','gender')"
      ],
      "metadata": {
        "id": "FZgxC-RNt4UU"
      },
      "execution_count": null,
      "outputs": []
    },
    {
      "cell_type": "code",
      "source": [
        "df.show()"
      ],
      "metadata": {
        "colab": {
          "base_uri": "https://localhost:8080/"
        },
        "id": "a8-dCEQmuvje",
        "outputId": "6ea2258c-9be9-49a1-dc77-8c17f8233008"
      },
      "execution_count": null,
      "outputs": [
        {
          "output_type": "stream",
          "name": "stdout",
          "text": [
            "+------+------+---+-------+-------+-------+----+----+--------+--------+----------+--------+----------+---------+--------+---------+------+----+----------+-------+------+--------+--------+------+--------+-----+----+----+------+--------+---+---+---+-------------+\n",
            "|school|gender|age|address|famsize|Pstatus|Medu|Fedu|    Mjob|    Fjob|    reason|guardian|traveltime|studytime|failures|schoolsup|famsup|paid|activities|nursery|higher|internet|romantic|famrel|freetime|goout|Dalc|Walc|health|absences| G1| G2| G3|new_studytime|\n",
            "+------+------+---+-------+-------+-------+----+----+--------+--------+----------+--------+----------+---------+--------+---------+------+----+----------+-------+------+--------+--------+------+--------+-----+----+----+------+--------+---+---+---+-------------+\n",
            "|    GP|     F| 18|      U|    GT3|      A|   4|   4| at_home| teacher|    course|  mother|         2|        2|       0|      yes|    no|  no|        no|    yes|   yes|      no|      no|     4|       3|    4|   1|   1|     3|       6|  5|  6|  6|            4|\n",
            "|    GP|     F| 17|      U|    GT3|      T|   1|   1| at_home|   other|    course|  father|         1|        2|       0|       no|   yes|  no|        no|     no|   yes|     yes|      no|     5|       3|    3|   1|   1|     3|       4|  5|  5|  6|            4|\n",
            "|    GP|     F| 15|      U|    LE3|      T|   1|   1| at_home|   other|     other|  mother|         1|        2|       3|      yes|    no| yes|        no|    yes|   yes|     yes|      no|     4|       3|    2|   2|   3|     3|      10|  7|  8| 10|            4|\n",
            "|    GP|     F| 15|      U|    GT3|      T|   4|   2|  health|services|      home|  mother|         1|        3|       0|       no|   yes| yes|       yes|    yes|   yes|     yes|     yes|     3|       2|    2|   1|   1|     5|       2| 15| 14| 15|            5|\n",
            "|    GP|     F| 16|      U|    GT3|      T|   3|   3|   other|   other|      home|  father|         1|        2|       0|       no|   yes| yes|        no|    yes|   yes|      no|      no|     4|       3|    2|   1|   2|     5|       4|  6| 10| 10|            4|\n",
            "|    GP|     M| 16|      U|    LE3|      T|   4|   3|services|   other|reputation|  mother|         1|        2|       0|       no|   yes| yes|       yes|    yes|   yes|     yes|      no|     5|       4|    2|   1|   2|     5|      10| 15| 15| 15|            4|\n",
            "|    GP|     M| 16|      U|    LE3|      T|   2|   2|   other|   other|      home|  mother|         1|        2|       0|       no|    no|  no|        no|    yes|   yes|     yes|      no|     4|       4|    4|   1|   1|     3|       0| 12| 12| 11|            4|\n",
            "|    GP|     F| 17|      U|    GT3|      A|   4|   4|   other| teacher|      home|  mother|         2|        2|       0|      yes|   yes|  no|        no|    yes|   yes|      no|      no|     4|       1|    4|   1|   1|     1|       6|  6|  5|  6|            4|\n",
            "|    GP|     M| 15|      U|    LE3|      A|   3|   2|services|   other|      home|  mother|         1|        2|       0|       no|   yes| yes|        no|    yes|   yes|     yes|      no|     4|       2|    2|   1|   1|     1|       0| 16| 18| 19|            4|\n",
            "|    GP|     M| 15|      U|    GT3|      T|   3|   4|   other|   other|      home|  mother|         1|        2|       0|       no|   yes| yes|       yes|    yes|   yes|     yes|      no|     5|       5|    1|   1|   1|     5|       0| 14| 15| 15|            4|\n",
            "|    GP|     F| 15|      U|    GT3|      T|   4|   4| teacher|  health|reputation|  mother|         1|        2|       0|       no|   yes| yes|        no|    yes|   yes|     yes|      no|     3|       3|    3|   1|   2|     2|       0| 10|  8|  9|            4|\n",
            "|    GP|     F| 15|      U|    GT3|      T|   2|   1|services|   other|reputation|  father|         3|        3|       0|       no|   yes|  no|       yes|    yes|   yes|     yes|      no|     5|       2|    2|   1|   1|     4|       4| 10| 12| 12|            5|\n",
            "|    GP|     M| 15|      U|    LE3|      T|   4|   4|  health|services|    course|  father|         1|        1|       0|       no|   yes| yes|       yes|    yes|   yes|     yes|      no|     4|       3|    3|   1|   3|     5|       2| 14| 14| 14|            3|\n",
            "|    GP|     M| 15|      U|    GT3|      T|   4|   3| teacher|   other|    course|  mother|         2|        2|       0|       no|   yes| yes|        no|    yes|   yes|     yes|      no|     5|       4|    3|   1|   2|     3|       2| 10| 10| 11|            4|\n",
            "|    GP|     M| 15|      U|    GT3|      A|   2|   2|   other|   other|      home|   other|         1|        3|       0|       no|   yes|  no|        no|    yes|   yes|     yes|     yes|     4|       5|    2|   1|   1|     3|       0| 14| 16| 16|            5|\n",
            "|    GP|     F| 16|      U|    GT3|      T|   4|   4|  health|   other|      home|  mother|         1|        1|       0|       no|   yes|  no|        no|    yes|   yes|     yes|      no|     4|       4|    4|   1|   2|     2|       4| 14| 14| 14|            3|\n",
            "|    GP|     F| 16|      U|    GT3|      T|   4|   4|services|services|reputation|  mother|         1|        3|       0|       no|   yes| yes|       yes|    yes|   yes|     yes|      no|     3|       2|    3|   1|   2|     2|       6| 13| 14| 14|            5|\n",
            "|    GP|     F| 16|      U|    GT3|      T|   3|   3|   other|   other|reputation|  mother|         3|        2|       0|      yes|   yes|  no|       yes|    yes|   yes|      no|      no|     5|       3|    2|   1|   1|     4|       4|  8| 10| 10|            4|\n",
            "|    GP|     M| 17|      U|    GT3|      T|   3|   2|services|services|    course|  mother|         1|        1|       3|       no|   yes|  no|       yes|    yes|   yes|     yes|      no|     5|       5|    5|   2|   4|     5|      16|  6|  5|  5|            3|\n",
            "|    GP|     M| 16|      U|    LE3|      T|   4|   3|  health|   other|      home|  father|         1|        1|       0|       no|    no| yes|       yes|    yes|   yes|     yes|      no|     3|       1|    3|   1|   3|     5|       4|  8| 10| 10|            3|\n",
            "+------+------+---+-------+-------+-------+----+----+--------+--------+----------+--------+----------+---------+--------+---------+------+----+----------+-------+------+--------+--------+------+--------+-----+----+----+------+--------+---+---+---+-------------+\n",
            "only showing top 20 rows\n",
            "\n"
          ]
        }
      ]
    },
    {
      "cell_type": "code",
      "source": [
        "df.filter(df['age']>18).select(['school','gender']).show()"
      ],
      "metadata": {
        "colab": {
          "base_uri": "https://localhost:8080/"
        },
        "id": "j7r6FJZ1uy54",
        "outputId": "7945fbd5-afa2-49f5-837a-b75d0dda6dbc"
      },
      "execution_count": null,
      "outputs": [
        {
          "output_type": "stream",
          "name": "stdout",
          "text": [
            "+------+------+\n",
            "|school|gender|\n",
            "+------+------+\n",
            "|    GP|     F|\n",
            "|    GP|     M|\n",
            "|    GP|     F|\n",
            "|    GP|     M|\n",
            "|    GP|     M|\n",
            "|    GP|     F|\n",
            "|    GP|     F|\n",
            "|    GP|     M|\n",
            "|    GP|     M|\n",
            "|    GP|     M|\n",
            "|    GP|     M|\n",
            "|    GP|     F|\n",
            "|    GP|     F|\n",
            "|    GP|     F|\n",
            "|    GP|     M|\n",
            "|    GP|     F|\n",
            "|    GP|     F|\n",
            "|    GP|     F|\n",
            "|    GP|     F|\n",
            "|    GP|     F|\n",
            "+------+------+\n",
            "only showing top 20 rows\n",
            "\n"
          ]
        }
      ]
    },
    {
      "cell_type": "code",
      "source": [
        "df.filter((df['age']>18) & (df['gender']=='F')).select('Mjob').show()"
      ],
      "metadata": {
        "colab": {
          "base_uri": "https://localhost:8080/"
        },
        "id": "rQLMhmVfvXgz",
        "outputId": "e51a9094-7402-48b3-a643-f4d634c136c8"
      },
      "execution_count": null,
      "outputs": [
        {
          "output_type": "stream",
          "name": "stdout",
          "text": [
            "+--------+\n",
            "|    Mjob|\n",
            "+--------+\n",
            "| at_home|\n",
            "|   other|\n",
            "|   other|\n",
            "|  health|\n",
            "| at_home|\n",
            "|services|\n",
            "| at_home|\n",
            "|services|\n",
            "| at_home|\n",
            "|   other|\n",
            "|services|\n",
            "|services|\n",
            "|services|\n",
            "|  health|\n",
            "|services|\n",
            "+--------+\n",
            "\n"
          ]
        }
      ]
    },
    {
      "cell_type": "code",
      "source": [
        "df.filter((df['age']>18) & ~(df['gender']=='F')).select('Mjob').show()"
      ],
      "metadata": {
        "colab": {
          "base_uri": "https://localhost:8080/"
        },
        "id": "2xU1qLyVxwY6",
        "outputId": "c389ad91-30ac-48fc-b3e2-0c14f9d9953d"
      },
      "execution_count": null,
      "outputs": [
        {
          "output_type": "stream",
          "name": "stdout",
          "text": [
            "+--------+\n",
            "|    Mjob|\n",
            "+--------+\n",
            "|services|\n",
            "|services|\n",
            "|services|\n",
            "|   other|\n",
            "|services|\n",
            "| teacher|\n",
            "|   other|\n",
            "|   other|\n",
            "|   other|\n",
            "|   other|\n",
            "|   other|\n",
            "|services|\n",
            "|   other|\n",
            "|   other|\n",
            "+--------+\n",
            "\n"
          ]
        }
      ]
    },
    {
      "cell_type": "code",
      "source": [
        "df.groupby('studytime').mean().show()"
      ],
      "metadata": {
        "colab": {
          "base_uri": "https://localhost:8080/"
        },
        "id": "u5vpaxrpyNbt",
        "outputId": "30c544e7-e297-425a-ceaa-d93ce04dd49b"
      },
      "execution_count": null,
      "outputs": [
        {
          "output_type": "stream",
          "name": "stdout",
          "text": [
            "+---------+------------------+------------------+------------------+------------------+--------------+--------------------+------------------+------------------+------------------+------------------+------------------+-----------------+-----------------+------------------+------------------+------------------+------------------+\n",
            "|studytime|          avg(age)|         avg(Medu)|         avg(Fedu)|   avg(traveltime)|avg(studytime)|       avg(failures)|       avg(famrel)|     avg(freetime)|        avg(goout)|         avg(Dalc)|         avg(Walc)|      avg(health)|    avg(absences)|           avg(G1)|           avg(G2)|           avg(G3)|avg(new_studytime)|\n",
            "+---------+------------------+------------------+------------------+------------------+--------------+--------------------+------------------+------------------+------------------+------------------+------------------+-----------------+-----------------+------------------+------------------+------------------+------------------+\n",
            "|        1| 16.64761904761905| 2.657142857142857|2.4380952380952383|1.5904761904761904|           1.0|  0.5238095238095238| 3.876190476190476|3.4380952380952383| 3.142857142857143|1.7619047619047619| 2.761904761904762|              3.8|5.761904761904762|10.438095238095238|10.276190476190477|10.047619047619047|               3.0|\n",
            "|        3|16.923076923076923|2.9076923076923076|2.6769230769230767| 1.323076923076923|           3.0| 0.23076923076923078| 4.153846153846154|3.0923076923076924|2.8923076923076922|               1.2|1.8153846153846154|3.723076923076923|4.538461538461538|12.046153846153846|11.507692307692308|              11.4|               5.0|\n",
            "|        4|16.296296296296298| 2.814814814814815| 2.111111111111111|1.4444444444444444|           4.0|0.037037037037037035|3.7777777777777777| 2.925925925925926|               3.0|1.2962962962962963|1.7777777777777777|3.185185185185185|4.148148148148148| 11.88888888888889|12.037037037037036| 11.25925925925926|               6.0|\n",
            "|        2|  16.7020202020202|2.7373737373737375|2.5707070707070705|1.4141414141414141|           2.0| 0.30808080808080807|3.9343434343434343| 3.217171717171717| 3.176767676767677|1.4494949494949494|2.2676767676767677|3.419191919191919|6.277777777777778|10.651515151515152|10.505050505050505|10.171717171717171|               4.0|\n",
            "+---------+------------------+------------------+------------------+------------------+--------------+--------------------+------------------+------------------+------------------+------------------+------------------+-----------------+-----------------+------------------+------------------+------------------+------------------+\n",
            "\n"
          ]
        }
      ]
    },
    {
      "cell_type": "code",
      "source": [
        "df.show()"
      ],
      "metadata": {
        "colab": {
          "base_uri": "https://localhost:8080/"
        },
        "id": "NXKlfYAMymoa",
        "outputId": "aac4c790-b6fa-4a97-f868-c36d5f79b1b7"
      },
      "execution_count": null,
      "outputs": [
        {
          "output_type": "stream",
          "name": "stdout",
          "text": [
            "+------+------+---+-------+-------+-------+----+----+--------+--------+----------+--------+----------+---------+--------+---------+------+----+----------+-------+------+--------+--------+------+--------+-----+----+----+------+--------+---+---+---+-------------+\n",
            "|school|gender|age|address|famsize|Pstatus|Medu|Fedu|    Mjob|    Fjob|    reason|guardian|traveltime|studytime|failures|schoolsup|famsup|paid|activities|nursery|higher|internet|romantic|famrel|freetime|goout|Dalc|Walc|health|absences| G1| G2| G3|new_studytime|\n",
            "+------+------+---+-------+-------+-------+----+----+--------+--------+----------+--------+----------+---------+--------+---------+------+----+----------+-------+------+--------+--------+------+--------+-----+----+----+------+--------+---+---+---+-------------+\n",
            "|    GP|     F| 18|      U|    GT3|      A|   4|   4| at_home| teacher|    course|  mother|         2|        2|       0|      yes|    no|  no|        no|    yes|   yes|      no|      no|     4|       3|    4|   1|   1|     3|       6|  5|  6|  6|            4|\n",
            "|    GP|     F| 17|      U|    GT3|      T|   1|   1| at_home|   other|    course|  father|         1|        2|       0|       no|   yes|  no|        no|     no|   yes|     yes|      no|     5|       3|    3|   1|   1|     3|       4|  5|  5|  6|            4|\n",
            "|    GP|     F| 15|      U|    LE3|      T|   1|   1| at_home|   other|     other|  mother|         1|        2|       3|      yes|    no| yes|        no|    yes|   yes|     yes|      no|     4|       3|    2|   2|   3|     3|      10|  7|  8| 10|            4|\n",
            "|    GP|     F| 15|      U|    GT3|      T|   4|   2|  health|services|      home|  mother|         1|        3|       0|       no|   yes| yes|       yes|    yes|   yes|     yes|     yes|     3|       2|    2|   1|   1|     5|       2| 15| 14| 15|            5|\n",
            "|    GP|     F| 16|      U|    GT3|      T|   3|   3|   other|   other|      home|  father|         1|        2|       0|       no|   yes| yes|        no|    yes|   yes|      no|      no|     4|       3|    2|   1|   2|     5|       4|  6| 10| 10|            4|\n",
            "|    GP|     M| 16|      U|    LE3|      T|   4|   3|services|   other|reputation|  mother|         1|        2|       0|       no|   yes| yes|       yes|    yes|   yes|     yes|      no|     5|       4|    2|   1|   2|     5|      10| 15| 15| 15|            4|\n",
            "|    GP|     M| 16|      U|    LE3|      T|   2|   2|   other|   other|      home|  mother|         1|        2|       0|       no|    no|  no|        no|    yes|   yes|     yes|      no|     4|       4|    4|   1|   1|     3|       0| 12| 12| 11|            4|\n",
            "|    GP|     F| 17|      U|    GT3|      A|   4|   4|   other| teacher|      home|  mother|         2|        2|       0|      yes|   yes|  no|        no|    yes|   yes|      no|      no|     4|       1|    4|   1|   1|     1|       6|  6|  5|  6|            4|\n",
            "|    GP|     M| 15|      U|    LE3|      A|   3|   2|services|   other|      home|  mother|         1|        2|       0|       no|   yes| yes|        no|    yes|   yes|     yes|      no|     4|       2|    2|   1|   1|     1|       0| 16| 18| 19|            4|\n",
            "|    GP|     M| 15|      U|    GT3|      T|   3|   4|   other|   other|      home|  mother|         1|        2|       0|       no|   yes| yes|       yes|    yes|   yes|     yes|      no|     5|       5|    1|   1|   1|     5|       0| 14| 15| 15|            4|\n",
            "|    GP|     F| 15|      U|    GT3|      T|   4|   4| teacher|  health|reputation|  mother|         1|        2|       0|       no|   yes| yes|        no|    yes|   yes|     yes|      no|     3|       3|    3|   1|   2|     2|       0| 10|  8|  9|            4|\n",
            "|    GP|     F| 15|      U|    GT3|      T|   2|   1|services|   other|reputation|  father|         3|        3|       0|       no|   yes|  no|       yes|    yes|   yes|     yes|      no|     5|       2|    2|   1|   1|     4|       4| 10| 12| 12|            5|\n",
            "|    GP|     M| 15|      U|    LE3|      T|   4|   4|  health|services|    course|  father|         1|        1|       0|       no|   yes| yes|       yes|    yes|   yes|     yes|      no|     4|       3|    3|   1|   3|     5|       2| 14| 14| 14|            3|\n",
            "|    GP|     M| 15|      U|    GT3|      T|   4|   3| teacher|   other|    course|  mother|         2|        2|       0|       no|   yes| yes|        no|    yes|   yes|     yes|      no|     5|       4|    3|   1|   2|     3|       2| 10| 10| 11|            4|\n",
            "|    GP|     M| 15|      U|    GT3|      A|   2|   2|   other|   other|      home|   other|         1|        3|       0|       no|   yes|  no|        no|    yes|   yes|     yes|     yes|     4|       5|    2|   1|   1|     3|       0| 14| 16| 16|            5|\n",
            "|    GP|     F| 16|      U|    GT3|      T|   4|   4|  health|   other|      home|  mother|         1|        1|       0|       no|   yes|  no|        no|    yes|   yes|     yes|      no|     4|       4|    4|   1|   2|     2|       4| 14| 14| 14|            3|\n",
            "|    GP|     F| 16|      U|    GT3|      T|   4|   4|services|services|reputation|  mother|         1|        3|       0|       no|   yes| yes|       yes|    yes|   yes|     yes|      no|     3|       2|    3|   1|   2|     2|       6| 13| 14| 14|            5|\n",
            "|    GP|     F| 16|      U|    GT3|      T|   3|   3|   other|   other|reputation|  mother|         3|        2|       0|      yes|   yes|  no|       yes|    yes|   yes|      no|      no|     5|       3|    2|   1|   1|     4|       4|  8| 10| 10|            4|\n",
            "|    GP|     M| 17|      U|    GT3|      T|   3|   2|services|services|    course|  mother|         1|        1|       3|       no|   yes|  no|       yes|    yes|   yes|     yes|      no|     5|       5|    5|   2|   4|     5|      16|  6|  5|  5|            3|\n",
            "|    GP|     M| 16|      U|    LE3|      T|   4|   3|  health|   other|      home|  father|         1|        1|       0|       no|    no| yes|       yes|    yes|   yes|     yes|      no|     3|       1|    3|   1|   3|     5|       4|  8| 10| 10|            3|\n",
            "+------+------+---+-------+-------+-------+----+----+--------+--------+----------+--------+----------+---------+--------+---------+------+----+----------+-------+------+--------+--------+------+--------+-----+----+----+------+--------+---+---+---+-------------+\n",
            "only showing top 20 rows\n",
            "\n"
          ]
        }
      ]
    },
    {
      "cell_type": "code",
      "source": [
        "df.orderBy(df['Medu'].desc()).show()"
      ],
      "metadata": {
        "colab": {
          "base_uri": "https://localhost:8080/"
        },
        "id": "x6cd0mjvzBsw",
        "outputId": "d4d1ea7c-3430-4013-cbf6-9bae498acbe5"
      },
      "execution_count": null,
      "outputs": [
        {
          "output_type": "stream",
          "name": "stdout",
          "text": [
            "+------+------+---+-------+-------+-------+----+----+--------+--------+----------+--------+----------+---------+--------+---------+------+----+----------+-------+------+--------+--------+------+--------+-----+----+----+------+--------+---+---+---+-------------+\n",
            "|school|gender|age|address|famsize|Pstatus|Medu|Fedu|    Mjob|    Fjob|    reason|guardian|traveltime|studytime|failures|schoolsup|famsup|paid|activities|nursery|higher|internet|romantic|famrel|freetime|goout|Dalc|Walc|health|absences| G1| G2| G3|new_studytime|\n",
            "+------+------+---+-------+-------+-------+----+----+--------+--------+----------+--------+----------+---------+--------+---------+------+----+----------+-------+------+--------+--------+------+--------+-----+----+----+------+--------+---+---+---+-------------+\n",
            "|    GP|     M| 15|      U|    GT3|      T|   4|   4|  health|  health|     other|  father|         1|        1|       0|       no|   yes| yes|        no|    yes|   yes|     yes|      no|     5|       4|    2|   1|   1|     5|       0| 12| 15| 15|            3|\n",
            "|    GP|     M| 15|      U|    LE3|      T|   4|   4| teacher|   other|      home|   other|         1|        1|       0|       no|   yes|  no|        no|     no|   yes|     yes|     yes|     5|       4|    3|   2|   4|     5|       8| 12| 12| 12|            3|\n",
            "|    GP|     M| 16|      U|    LE3|      T|   4|   2| teacher|   other|    course|  mother|         1|        2|       0|       no|    no|  no|       yes|    yes|   yes|     yes|      no|     4|       5|    1|   1|   3|     5|       2| 15| 15| 16|            4|\n",
            "|    GP|     F| 18|      U|    GT3|      A|   4|   4| at_home| teacher|    course|  mother|         2|        2|       0|      yes|    no|  no|        no|    yes|   yes|      no|      no|     4|       3|    4|   1|   1|     3|       6|  5|  6|  6|            4|\n",
            "|    GP|     M| 15|      U|    GT3|      T|   4|   3| teacher|   other|reputation|  mother|         1|        2|       0|       no|    no|  no|        no|    yes|   yes|     yes|      no|     4|       4|    1|   1|   1|     1|       0| 13| 14| 15|            4|\n",
            "|    GP|     M| 16|      U|    LE3|      T|   4|   3|services|   other|reputation|  mother|         1|        2|       0|       no|   yes| yes|       yes|    yes|   yes|     yes|      no|     5|       4|    2|   1|   2|     5|      10| 15| 15| 15|            4|\n",
            "|    GP|     F| 17|      U|    GT3|      A|   4|   4|   other| teacher|      home|  mother|         2|        2|       0|      yes|   yes|  no|        no|    yes|   yes|      no|      no|     4|       1|    4|   1|   1|     1|       6|  6|  5|  6|            4|\n",
            "|    GP|     F| 15|      U|    GT3|      T|   4|   4| teacher|  health|reputation|  mother|         1|        2|       0|       no|   yes| yes|        no|    yes|   yes|     yes|      no|     3|       3|    3|   1|   2|     2|       0| 10|  8|  9|            4|\n",
            "|    GP|     M| 15|      U|    LE3|      T|   4|   4|  health|services|    course|  father|         1|        1|       0|       no|   yes| yes|       yes|    yes|   yes|     yes|      no|     4|       3|    3|   1|   3|     5|       2| 14| 14| 14|            3|\n",
            "|    GP|     M| 15|      U|    GT3|      T|   4|   3| teacher|   other|    course|  mother|         2|        2|       0|       no|   yes| yes|        no|    yes|   yes|     yes|      no|     5|       4|    3|   1|   2|     3|       2| 10| 10| 11|            4|\n",
            "|    GP|     F| 16|      U|    GT3|      T|   4|   4|  health|   other|      home|  mother|         1|        1|       0|       no|   yes|  no|        no|    yes|   yes|     yes|      no|     4|       4|    4|   1|   2|     2|       4| 14| 14| 14|            3|\n",
            "|    GP|     F| 16|      U|    GT3|      T|   4|   4|services|services|reputation|  mother|         1|        3|       0|       no|   yes| yes|       yes|    yes|   yes|     yes|      no|     3|       2|    3|   1|   2|     2|       6| 13| 14| 14|            5|\n",
            "|    GP|     M| 16|      U|    LE3|      T|   4|   3|  health|   other|      home|  father|         1|        1|       0|       no|    no| yes|       yes|    yes|   yes|     yes|      no|     3|       1|    3|   1|   3|     5|       4|  8| 10| 10|            3|\n",
            "|    GP|     F| 15|      U|    GT3|      T|   4|   2|  health|services|      home|  mother|         1|        3|       0|       no|   yes| yes|       yes|    yes|   yes|     yes|     yes|     3|       2|    2|   1|   1|     5|       2| 15| 14| 15|            5|\n",
            "|    GP|     M| 15|      U|    GT3|      T|   4|   2|  health|services|     other|  mother|         1|        1|       0|       no|    no| yes|        no|    yes|   yes|     yes|      no|     2|       2|    4|   2|   4|     1|       4| 15| 16| 15|            3|\n",
            "|    GP|     M| 16|      U|    GT3|      T|   4|   4| teacher| teacher|      home|  mother|         1|        2|       0|       no|   yes| yes|       yes|    yes|   yes|     yes|     yes|     4|       4|    5|   5|   5|     5|      16| 10| 12| 11|            4|\n",
            "|    GP|     M| 15|      U|    GT3|      T|   4|   4|  health|services|      home|  mother|         1|        2|       0|       no|   yes| yes|        no|     no|   yes|     yes|      no|     5|       4|    2|   3|   4|     5|       0|  9| 11| 12|            4|\n",
            "|    GP|     M| 15|      U|    GT3|      T|   4|   4|services|services|reputation|  mother|         2|        2|       0|       no|   yes|  no|       yes|    yes|   yes|     yes|      no|     4|       3|    1|   1|   1|     5|       0| 17| 16| 17|            4|\n",
            "|    GP|     M| 15|      R|    GT3|      T|   4|   3| teacher| at_home|    course|  mother|         1|        2|       0|       no|   yes|  no|       yes|    yes|   yes|     yes|     yes|     4|       5|    2|   1|   1|     5|       0| 17| 16| 16|            4|\n",
            "|    GP|     M| 15|      U|    LE3|      T|   4|   3| teacher|services|      home|  mother|         1|        3|       0|       no|   yes|  no|       yes|    yes|   yes|     yes|      no|     5|       4|    3|   1|   1|     4|       2| 15| 16| 18|            5|\n",
            "+------+------+---+-------+-------+-------+----+----+--------+--------+----------+--------+----------+---------+--------+---------+------+----+----------+-------+------+--------+--------+------+--------+-----+----+----+------+--------+---+---+---+-------------+\n",
            "only showing top 20 rows\n",
            "\n"
          ]
        }
      ]
    },
    {
      "cell_type": "code",
      "source": [
        "from pyspark.sql.functions import mean"
      ],
      "metadata": {
        "id": "aYCIeAuszPGk"
      },
      "execution_count": null,
      "outputs": []
    },
    {
      "cell_type": "code",
      "source": [
        "mean1=df.select(mean(df['studytime'])).collect()"
      ],
      "metadata": {
        "id": "9pYmgwFmz0Wt"
      },
      "execution_count": null,
      "outputs": []
    },
    {
      "cell_type": "code",
      "source": [
        "mean1[0][0]"
      ],
      "metadata": {
        "colab": {
          "base_uri": "https://localhost:8080/"
        },
        "id": "AvPxllJB0ESv",
        "outputId": "ee1639cf-f7ec-434c-935f-b58313b70982"
      },
      "execution_count": null,
      "outputs": [
        {
          "output_type": "execute_result",
          "data": {
            "text/plain": [
              "2.0354430379746837"
            ]
          },
          "metadata": {},
          "execution_count": 68
        }
      ]
    },
    {
      "cell_type": "code",
      "source": [
        "df.fillna(mean1[0][0]).show()"
      ],
      "metadata": {
        "colab": {
          "base_uri": "https://localhost:8080/"
        },
        "id": "QpgxKjn40NKi",
        "outputId": "d54a030b-401e-4b20-b998-06d0d066a3c8"
      },
      "execution_count": null,
      "outputs": [
        {
          "output_type": "stream",
          "name": "stdout",
          "text": [
            "+------+------+---+-------+-------+-------+----+----+--------+--------+----------+--------+----------+---------+--------+---------+------+----+----------+-------+------+--------+--------+------+--------+-----+----+----+------+--------+---+---+---+-------------+\n",
            "|school|gender|age|address|famsize|Pstatus|Medu|Fedu|    Mjob|    Fjob|    reason|guardian|traveltime|studytime|failures|schoolsup|famsup|paid|activities|nursery|higher|internet|romantic|famrel|freetime|goout|Dalc|Walc|health|absences| G1| G2| G3|new_studytime|\n",
            "+------+------+---+-------+-------+-------+----+----+--------+--------+----------+--------+----------+---------+--------+---------+------+----+----------+-------+------+--------+--------+------+--------+-----+----+----+------+--------+---+---+---+-------------+\n",
            "|    GP|     F| 18|      U|    GT3|      A|   4|   4| at_home| teacher|    course|  mother|         2|        2|       0|      yes|    no|  no|        no|    yes|   yes|      no|      no|     4|       3|    4|   1|   1|     3|       6|  5|  6|  6|            4|\n",
            "|    GP|     F| 17|      U|    GT3|      T|   1|   1| at_home|   other|    course|  father|         1|        2|       0|       no|   yes|  no|        no|     no|   yes|     yes|      no|     5|       3|    3|   1|   1|     3|       4|  5|  5|  6|            4|\n",
            "|    GP|     F| 15|      U|    LE3|      T|   1|   1| at_home|   other|     other|  mother|         1|        2|       3|      yes|    no| yes|        no|    yes|   yes|     yes|      no|     4|       3|    2|   2|   3|     3|      10|  7|  8| 10|            4|\n",
            "|    GP|     F| 15|      U|    GT3|      T|   4|   2|  health|services|      home|  mother|         1|        3|       0|       no|   yes| yes|       yes|    yes|   yes|     yes|     yes|     3|       2|    2|   1|   1|     5|       2| 15| 14| 15|            5|\n",
            "|    GP|     F| 16|      U|    GT3|      T|   3|   3|   other|   other|      home|  father|         1|        2|       0|       no|   yes| yes|        no|    yes|   yes|      no|      no|     4|       3|    2|   1|   2|     5|       4|  6| 10| 10|            4|\n",
            "|    GP|     M| 16|      U|    LE3|      T|   4|   3|services|   other|reputation|  mother|         1|        2|       0|       no|   yes| yes|       yes|    yes|   yes|     yes|      no|     5|       4|    2|   1|   2|     5|      10| 15| 15| 15|            4|\n",
            "|    GP|     M| 16|      U|    LE3|      T|   2|   2|   other|   other|      home|  mother|         1|        2|       0|       no|    no|  no|        no|    yes|   yes|     yes|      no|     4|       4|    4|   1|   1|     3|       0| 12| 12| 11|            4|\n",
            "|    GP|     F| 17|      U|    GT3|      A|   4|   4|   other| teacher|      home|  mother|         2|        2|       0|      yes|   yes|  no|        no|    yes|   yes|      no|      no|     4|       1|    4|   1|   1|     1|       6|  6|  5|  6|            4|\n",
            "|    GP|     M| 15|      U|    LE3|      A|   3|   2|services|   other|      home|  mother|         1|        2|       0|       no|   yes| yes|        no|    yes|   yes|     yes|      no|     4|       2|    2|   1|   1|     1|       0| 16| 18| 19|            4|\n",
            "|    GP|     M| 15|      U|    GT3|      T|   3|   4|   other|   other|      home|  mother|         1|        2|       0|       no|   yes| yes|       yes|    yes|   yes|     yes|      no|     5|       5|    1|   1|   1|     5|       0| 14| 15| 15|            4|\n",
            "|    GP|     F| 15|      U|    GT3|      T|   4|   4| teacher|  health|reputation|  mother|         1|        2|       0|       no|   yes| yes|        no|    yes|   yes|     yes|      no|     3|       3|    3|   1|   2|     2|       0| 10|  8|  9|            4|\n",
            "|    GP|     F| 15|      U|    GT3|      T|   2|   1|services|   other|reputation|  father|         3|        3|       0|       no|   yes|  no|       yes|    yes|   yes|     yes|      no|     5|       2|    2|   1|   1|     4|       4| 10| 12| 12|            5|\n",
            "|    GP|     M| 15|      U|    LE3|      T|   4|   4|  health|services|    course|  father|         1|        1|       0|       no|   yes| yes|       yes|    yes|   yes|     yes|      no|     4|       3|    3|   1|   3|     5|       2| 14| 14| 14|            3|\n",
            "|    GP|     M| 15|      U|    GT3|      T|   4|   3| teacher|   other|    course|  mother|         2|        2|       0|       no|   yes| yes|        no|    yes|   yes|     yes|      no|     5|       4|    3|   1|   2|     3|       2| 10| 10| 11|            4|\n",
            "|    GP|     M| 15|      U|    GT3|      A|   2|   2|   other|   other|      home|   other|         1|        3|       0|       no|   yes|  no|        no|    yes|   yes|     yes|     yes|     4|       5|    2|   1|   1|     3|       0| 14| 16| 16|            5|\n",
            "|    GP|     F| 16|      U|    GT3|      T|   4|   4|  health|   other|      home|  mother|         1|        1|       0|       no|   yes|  no|        no|    yes|   yes|     yes|      no|     4|       4|    4|   1|   2|     2|       4| 14| 14| 14|            3|\n",
            "|    GP|     F| 16|      U|    GT3|      T|   4|   4|services|services|reputation|  mother|         1|        3|       0|       no|   yes| yes|       yes|    yes|   yes|     yes|      no|     3|       2|    3|   1|   2|     2|       6| 13| 14| 14|            5|\n",
            "|    GP|     F| 16|      U|    GT3|      T|   3|   3|   other|   other|reputation|  mother|         3|        2|       0|      yes|   yes|  no|       yes|    yes|   yes|      no|      no|     5|       3|    2|   1|   1|     4|       4|  8| 10| 10|            4|\n",
            "|    GP|     M| 17|      U|    GT3|      T|   3|   2|services|services|    course|  mother|         1|        1|       3|       no|   yes|  no|       yes|    yes|   yes|     yes|      no|     5|       5|    5|   2|   4|     5|      16|  6|  5|  5|            3|\n",
            "|    GP|     M| 16|      U|    LE3|      T|   4|   3|  health|   other|      home|  father|         1|        1|       0|       no|    no| yes|       yes|    yes|   yes|     yes|      no|     3|       1|    3|   1|   3|     5|       4|  8| 10| 10|            3|\n",
            "+------+------+---+-------+-------+-------+----+----+--------+--------+----------+--------+----------+---------+--------+---------+------+----+----------+-------+------+--------+--------+------+--------+-----+----+----+------+--------+---+---+---+-------------+\n",
            "only showing top 20 rows\n",
            "\n"
          ]
        }
      ]
    },
    {
      "cell_type": "code",
      "source": [],
      "metadata": {
        "id": "sx_IJyud0Ycn"
      },
      "execution_count": null,
      "outputs": []
    }
  ]
}